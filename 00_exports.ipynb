{
  "nbformat": 4,
  "nbformat_minor": 0,
  "metadata": {
    "kernelspec": {
      "display_name": "Python 3",
      "language": "python",
      "name": "python3"
    },
    "colab": {
      "name": "00_exports.ipynb",
      "provenance": [],
      "collapsed_sections": [],
      "include_colab_link": true
    }
  },
  "cells": [
    {
      "cell_type": "markdown",
      "metadata": {
        "id": "view-in-github",
        "colab_type": "text"
      },
      "source": [
        "<a href=\"https://colab.research.google.com/github/raynardj/impractical_dl/blob/master/00_exports.ipynb\" target=\"_parent\"><img src=\"https://colab.research.google.com/assets/colab-badge.svg\" alt=\"Open In Colab\"/></a>"
      ]
    },
    {
      "cell_type": "code",
      "metadata": {
        "id": "cxsFGdZe9A8N",
        "colab_type": "code",
        "colab": {
          "base_uri": "https://localhost:8080/",
          "height": 666
        },
        "outputId": "6eae3537-5316-4f74-f209-6d70fcdc5eb6"
      },
      "source": [
        "# make your Google Drive accessible\n",
        "from google.colab import drive\n",
        "drive.mount('/content/gdrive', force_remount=True)\n",
        "root_dir = \"/content/gdrive/My Drive/\"\n",
        "base_dir = root_dir + 'fastai-v3/course-v3/nbs/dl2/'\n",
        "\n",
        "# navigate to the notebooks directory for dl2\n",
        "import os\n",
        "os.chdir(base_dir)\n",
        "\n",
        "# update fastai, according to instructions at https://course.fast.ai/start_colab.html\n",
        "!curl -s https://course.fast.ai/setup/colab | bash\n",
        "    \n",
        "# install fire\n",
        "!pip install fire\n",
        "!pip install nbconvert"
      ],
      "execution_count": 1,
      "outputs": [
        {
          "output_type": "stream",
          "text": [
            "Go to this URL in a browser: https://accounts.google.com/o/oauth2/auth?client_id=947318989803-6bn6qk8qdgf4n4g3pfee6491hc0brc4i.apps.googleusercontent.com&redirect_uri=urn%3aietf%3awg%3aoauth%3a2.0%3aoob&response_type=code&scope=email%20https%3a%2f%2fwww.googleapis.com%2fauth%2fdocs.test%20https%3a%2f%2fwww.googleapis.com%2fauth%2fdrive%20https%3a%2f%2fwww.googleapis.com%2fauth%2fdrive.photos.readonly%20https%3a%2f%2fwww.googleapis.com%2fauth%2fpeopleapi.readonly\n",
            "\n",
            "Enter your authorization code:\n",
            "··········\n",
            "Mounted at /content/gdrive\n",
            "Updating fastai...\n",
            "Done.\n",
            "Collecting fire\n",
            "\u001b[?25l  Downloading https://files.pythonhosted.org/packages/d9/69/faeaae8687f4de0f5973694d02e9d6c3eb827636a009157352d98de1129e/fire-0.2.1.tar.gz (76kB)\n",
            "\u001b[K     |████████████████████████████████| 81kB 3.1MB/s \n",
            "\u001b[?25hRequirement already satisfied: six in /usr/local/lib/python3.6/dist-packages (from fire) (1.12.0)\n",
            "Requirement already satisfied: termcolor in /usr/local/lib/python3.6/dist-packages (from fire) (1.1.0)\n",
            "Building wheels for collected packages: fire\n",
            "  Building wheel for fire (setup.py) ... \u001b[?25l\u001b[?25hdone\n",
            "  Created wheel for fire: filename=fire-0.2.1-py2.py3-none-any.whl size=103528 sha256=22e602d1b0e120f8d8830fdd353b8987c9dbd44840a19f26b29e350a3a6dc4c6\n",
            "  Stored in directory: /root/.cache/pip/wheels/31/9c/c0/07b6dc7faf1844bb4688f46b569efe6cafaa2179c95db821da\n",
            "Successfully built fire\n",
            "Installing collected packages: fire\n",
            "Successfully installed fire-0.2.1\n",
            "Requirement already satisfied: nbconvert in /usr/local/lib/python3.6/dist-packages (5.6.1)\n",
            "Requirement already satisfied: entrypoints>=0.2.2 in /usr/local/lib/python3.6/dist-packages (from nbconvert) (0.3)\n",
            "Requirement already satisfied: bleach in /usr/local/lib/python3.6/dist-packages (from nbconvert) (3.1.0)\n",
            "Requirement already satisfied: mistune<2,>=0.8.1 in /usr/local/lib/python3.6/dist-packages (from nbconvert) (0.8.4)\n",
            "Requirement already satisfied: pygments in /usr/local/lib/python3.6/dist-packages (from nbconvert) (2.1.3)\n",
            "Requirement already satisfied: jinja2>=2.4 in /usr/local/lib/python3.6/dist-packages (from nbconvert) (2.11.1)\n",
            "Requirement already satisfied: traitlets>=4.2 in /usr/local/lib/python3.6/dist-packages (from nbconvert) (4.3.3)\n",
            "Requirement already satisfied: nbformat>=4.4 in /usr/local/lib/python3.6/dist-packages (from nbconvert) (5.0.4)\n",
            "Requirement already satisfied: pandocfilters>=1.4.1 in /usr/local/lib/python3.6/dist-packages (from nbconvert) (1.4.2)\n",
            "Requirement already satisfied: jupyter-core in /usr/local/lib/python3.6/dist-packages (from nbconvert) (4.6.1)\n",
            "Requirement already satisfied: testpath in /usr/local/lib/python3.6/dist-packages (from nbconvert) (0.4.4)\n",
            "Requirement already satisfied: defusedxml in /usr/local/lib/python3.6/dist-packages (from nbconvert) (0.6.0)\n",
            "Requirement already satisfied: webencodings in /usr/local/lib/python3.6/dist-packages (from bleach->nbconvert) (0.5.1)\n",
            "Requirement already satisfied: six>=1.9.0 in /usr/local/lib/python3.6/dist-packages (from bleach->nbconvert) (1.12.0)\n",
            "Requirement already satisfied: MarkupSafe>=0.23 in /usr/local/lib/python3.6/dist-packages (from jinja2>=2.4->nbconvert) (1.1.1)\n",
            "Requirement already satisfied: decorator in /usr/local/lib/python3.6/dist-packages (from traitlets>=4.2->nbconvert) (4.4.1)\n",
            "Requirement already satisfied: ipython-genutils in /usr/local/lib/python3.6/dist-packages (from traitlets>=4.2->nbconvert) (0.2.0)\n",
            "Requirement already satisfied: jsonschema!=2.5.0,>=2.4 in /usr/local/lib/python3.6/dist-packages (from nbformat>=4.4->nbconvert) (2.6.0)\n"
          ],
          "name": "stdout"
        }
      ]
    },
    {
      "cell_type": "code",
      "metadata": {
        "id": "K_3MTC_v8-GJ",
        "colab_type": "code",
        "colab": {}
      },
      "source": [
        "#export\n",
        "TEST = 'test'"
      ],
      "execution_count": 0,
      "outputs": []
    },
    {
      "cell_type": "markdown",
      "metadata": {
        "id": "sNE0k8jx8-GR",
        "colab_type": "text"
      },
      "source": [
        "## Export"
      ]
    },
    {
      "cell_type": "code",
      "metadata": {
        "id": "rDIgwqSR8-GS",
        "colab_type": "code",
        "colab": {
          "base_uri": "https://localhost:8080/",
          "height": 34
        },
        "outputId": "d089dc13-4a52-4dc8-b9ef-cf3874b32bac"
      },
      "source": [
        "!python notebook2script.py 00_exports.ipynb"
      ],
      "execution_count": 3,
      "outputs": [
        {
          "output_type": "stream",
          "text": [
            "Converted 00_exports.ipynb to exp/nb_00.py\n"
          ],
          "name": "stdout"
        }
      ]
    },
    {
      "cell_type": "markdown",
      "metadata": {
        "id": "sqpWPk398-GV",
        "colab_type": "text"
      },
      "source": [
        "### How it works:"
      ]
    },
    {
      "cell_type": "code",
      "metadata": {
        "id": "ycaFZkVu8-GX",
        "colab_type": "code",
        "colab": {}
      },
      "source": [
        "import json\n",
        "d = json.load(open('00_exports.ipynb','r'))['cells']"
      ],
      "execution_count": 0,
      "outputs": []
    },
    {
      "cell_type": "code",
      "metadata": {
        "id": "moea_UL98-Ga",
        "colab_type": "code",
        "colab": {
          "base_uri": "https://localhost:8080/",
          "height": 1000
        },
        "outputId": "0bc0656f-0e5c-43e8-b973-ad1a75ea66d6"
      },
      "source": [
        "d[0]"
      ],
      "execution_count": 5,
      "outputs": [
        {
          "output_type": "execute_result",
          "data": {
            "text/plain": [
              "{'cell_type': 'code',\n",
              " 'execution_count': 1,\n",
              " 'metadata': {'colab': {'base_uri': 'https://localhost:8080/', 'height': 666},\n",
              "  'colab_type': 'code',\n",
              "  'executionInfo': {'elapsed': 53764,\n",
              "   'status': 'ok',\n",
              "   'timestamp': 1581067340026,\n",
              "   'user': {'displayName': 'Raynard Zhang',\n",
              "    'photoUrl': 'https://lh3.googleusercontent.com/a-/AAuE7mDvGhEN8ZrB3mhdp-ye-5OzBffPgQzUDZnPdKOO=s64',\n",
              "    'userId': '17326204253901915588'},\n",
              "   'user_tz': -480},\n",
              "  'id': 'cxsFGdZe9A8N',\n",
              "  'outputId': '6eae3537-5316-4f74-f209-6d70fcdc5eb6'},\n",
              " 'outputs': [{'name': 'stdout',\n",
              "   'output_type': 'stream',\n",
              "   'text': ['Go to this URL in a browser: https://accounts.google.com/o/oauth2/auth?client_id=947318989803-6bn6qk8qdgf4n4g3pfee6491hc0brc4i.apps.googleusercontent.com&redirect_uri=urn%3aietf%3awg%3aoauth%3a2.0%3aoob&response_type=code&scope=email%20https%3a%2f%2fwww.googleapis.com%2fauth%2fdocs.test%20https%3a%2f%2fwww.googleapis.com%2fauth%2fdrive%20https%3a%2f%2fwww.googleapis.com%2fauth%2fdrive.photos.readonly%20https%3a%2f%2fwww.googleapis.com%2fauth%2fpeopleapi.readonly\\n',\n",
              "    '\\n',\n",
              "    'Enter your authorization code:\\n',\n",
              "    '··········\\n',\n",
              "    'Mounted at /content/gdrive\\n',\n",
              "    'Updating fastai...\\n',\n",
              "    'Done.\\n',\n",
              "    'Collecting fire\\n',\n",
              "    '\\x1b[?25l  Downloading https://files.pythonhosted.org/packages/d9/69/faeaae8687f4de0f5973694d02e9d6c3eb827636a009157352d98de1129e/fire-0.2.1.tar.gz (76kB)\\n',\n",
              "    '\\x1b[K     |████████████████████████████████| 81kB 3.1MB/s \\n',\n",
              "    '\\x1b[?25hRequirement already satisfied: six in /usr/local/lib/python3.6/dist-packages (from fire) (1.12.0)\\n',\n",
              "    'Requirement already satisfied: termcolor in /usr/local/lib/python3.6/dist-packages (from fire) (1.1.0)\\n',\n",
              "    'Building wheels for collected packages: fire\\n',\n",
              "    '  Building wheel for fire (setup.py) ... \\x1b[?25l\\x1b[?25hdone\\n',\n",
              "    '  Created wheel for fire: filename=fire-0.2.1-py2.py3-none-any.whl size=103528 sha256=22e602d1b0e120f8d8830fdd353b8987c9dbd44840a19f26b29e350a3a6dc4c6\\n',\n",
              "    '  Stored in directory: /root/.cache/pip/wheels/31/9c/c0/07b6dc7faf1844bb4688f46b569efe6cafaa2179c95db821da\\n',\n",
              "    'Successfully built fire\\n',\n",
              "    'Installing collected packages: fire\\n',\n",
              "    'Successfully installed fire-0.2.1\\n',\n",
              "    'Requirement already satisfied: nbconvert in /usr/local/lib/python3.6/dist-packages (5.6.1)\\n',\n",
              "    'Requirement already satisfied: entrypoints>=0.2.2 in /usr/local/lib/python3.6/dist-packages (from nbconvert) (0.3)\\n',\n",
              "    'Requirement already satisfied: bleach in /usr/local/lib/python3.6/dist-packages (from nbconvert) (3.1.0)\\n',\n",
              "    'Requirement already satisfied: mistune<2,>=0.8.1 in /usr/local/lib/python3.6/dist-packages (from nbconvert) (0.8.4)\\n',\n",
              "    'Requirement already satisfied: pygments in /usr/local/lib/python3.6/dist-packages (from nbconvert) (2.1.3)\\n',\n",
              "    'Requirement already satisfied: jinja2>=2.4 in /usr/local/lib/python3.6/dist-packages (from nbconvert) (2.11.1)\\n',\n",
              "    'Requirement already satisfied: traitlets>=4.2 in /usr/local/lib/python3.6/dist-packages (from nbconvert) (4.3.3)\\n',\n",
              "    'Requirement already satisfied: nbformat>=4.4 in /usr/local/lib/python3.6/dist-packages (from nbconvert) (5.0.4)\\n',\n",
              "    'Requirement already satisfied: pandocfilters>=1.4.1 in /usr/local/lib/python3.6/dist-packages (from nbconvert) (1.4.2)\\n',\n",
              "    'Requirement already satisfied: jupyter-core in /usr/local/lib/python3.6/dist-packages (from nbconvert) (4.6.1)\\n',\n",
              "    'Requirement already satisfied: testpath in /usr/local/lib/python3.6/dist-packages (from nbconvert) (0.4.4)\\n',\n",
              "    'Requirement already satisfied: defusedxml in /usr/local/lib/python3.6/dist-packages (from nbconvert) (0.6.0)\\n',\n",
              "    'Requirement already satisfied: webencodings in /usr/local/lib/python3.6/dist-packages (from bleach->nbconvert) (0.5.1)\\n',\n",
              "    'Requirement already satisfied: six>=1.9.0 in /usr/local/lib/python3.6/dist-packages (from bleach->nbconvert) (1.12.0)\\n',\n",
              "    'Requirement already satisfied: MarkupSafe>=0.23 in /usr/local/lib/python3.6/dist-packages (from jinja2>=2.4->nbconvert) (1.1.1)\\n',\n",
              "    'Requirement already satisfied: decorator in /usr/local/lib/python3.6/dist-packages (from traitlets>=4.2->nbconvert) (4.4.1)\\n',\n",
              "    'Requirement already satisfied: ipython-genutils in /usr/local/lib/python3.6/dist-packages (from traitlets>=4.2->nbconvert) (0.2.0)\\n',\n",
              "    'Requirement already satisfied: jsonschema!=2.5.0,>=2.4 in /usr/local/lib/python3.6/dist-packages (from nbformat>=4.4->nbconvert) (2.6.0)\\n']}],\n",
              " 'source': ['# make your Google Drive accessible\\n',\n",
              "  'from google.colab import drive\\n',\n",
              "  \"drive.mount('/content/gdrive', force_remount=True)\\n\",\n",
              "  'root_dir = \"/content/gdrive/My Drive/\"\\n',\n",
              "  \"base_dir = root_dir + 'fastai-v3/course-v3/nbs/dl2/'\\n\",\n",
              "  '\\n',\n",
              "  '# navigate to the notebooks directory for dl2\\n',\n",
              "  'import os\\n',\n",
              "  'os.chdir(base_dir)\\n',\n",
              "  '\\n',\n",
              "  '# update fastai, according to instructions at https://course.fast.ai/start_colab.html\\n',\n",
              "  '!curl -s https://course.fast.ai/setup/colab | bash\\n',\n",
              "  '    \\n',\n",
              "  '# install fire\\n',\n",
              "  '!pip install fire\\n',\n",
              "  '!pip install nbconvert']}"
            ]
          },
          "metadata": {
            "tags": []
          },
          "execution_count": 5
        }
      ]
    },
    {
      "cell_type": "code",
      "metadata": {
        "id": "kjPFtLAO8-Gf",
        "colab_type": "code",
        "colab": {
          "base_uri": "https://localhost:8080/",
          "height": 34
        },
        "outputId": "2ed7ea78-4f59-4aa3-e739-bfbe339456b4"
      },
      "source": [
        "cell = d[0]\n",
        "list(cell.keys())"
      ],
      "execution_count": 6,
      "outputs": [
        {
          "output_type": "execute_result",
          "data": {
            "text/plain": [
              "['cell_type', 'metadata', 'source', 'execution_count', 'outputs']"
            ]
          },
          "metadata": {
            "tags": []
          },
          "execution_count": 6
        }
      ]
    },
    {
      "cell_type": "code",
      "metadata": {
        "id": "9nXYoZF_-_uI",
        "colab_type": "code",
        "colab": {
          "base_uri": "https://localhost:8080/",
          "height": 289
        },
        "outputId": "e28925d6-c901-4d4e-f65f-98d191885c5a"
      },
      "source": [
        "cell[\"source\"]"
      ],
      "execution_count": 8,
      "outputs": [
        {
          "output_type": "execute_result",
          "data": {
            "text/plain": [
              "['# make your Google Drive accessible\\n',\n",
              " 'from google.colab import drive\\n',\n",
              " \"drive.mount('/content/gdrive', force_remount=True)\\n\",\n",
              " 'root_dir = \"/content/gdrive/My Drive/\"\\n',\n",
              " \"base_dir = root_dir + 'fastai-v3/course-v3/nbs/dl2/'\\n\",\n",
              " '\\n',\n",
              " '# navigate to the notebooks directory for dl2\\n',\n",
              " 'import os\\n',\n",
              " 'os.chdir(base_dir)\\n',\n",
              " '\\n',\n",
              " '# update fastai, according to instructions at https://course.fast.ai/start_colab.html\\n',\n",
              " '!curl -s https://course.fast.ai/setup/colab | bash\\n',\n",
              " '    \\n',\n",
              " '# install fire\\n',\n",
              " '!pip install fire\\n',\n",
              " '!pip install nbconvert']"
            ]
          },
          "metadata": {
            "tags": []
          },
          "execution_count": 8
        }
      ]
    },
    {
      "cell_type": "code",
      "metadata": {
        "id": "pLDhZ2rM_Dgk",
        "colab_type": "code",
        "colab": {
          "base_uri": "https://localhost:8080/",
          "height": 204
        },
        "outputId": "96a8e315-285f-4500-e9b7-e96d8253b24b"
      },
      "source": [
        "cell[\"metadata\"]"
      ],
      "execution_count": 9,
      "outputs": [
        {
          "output_type": "execute_result",
          "data": {
            "text/plain": [
              "{'colab': {'base_uri': 'https://localhost:8080/', 'height': 666},\n",
              " 'colab_type': 'code',\n",
              " 'executionInfo': {'elapsed': 53764,\n",
              "  'status': 'ok',\n",
              "  'timestamp': 1581067340026,\n",
              "  'user': {'displayName': 'Raynard Zhang',\n",
              "   'photoUrl': 'https://lh3.googleusercontent.com/a-/AAuE7mDvGhEN8ZrB3mhdp-ye-5OzBffPgQzUDZnPdKOO=s64',\n",
              "   'userId': '17326204253901915588'},\n",
              "  'user_tz': -480},\n",
              " 'id': 'cxsFGdZe9A8N',\n",
              " 'outputId': '6eae3537-5316-4f74-f209-6d70fcdc5eb6'}"
            ]
          },
          "metadata": {
            "tags": []
          },
          "execution_count": 9
        }
      ]
    },
    {
      "cell_type": "code",
      "metadata": {
        "id": "PycRFrMR_Ler",
        "colab_type": "code",
        "colab": {}
      },
      "source": [
        ""
      ],
      "execution_count": 0,
      "outputs": []
    }
  ]
}