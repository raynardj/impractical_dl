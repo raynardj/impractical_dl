{
  "nbformat": 4,
  "nbformat_minor": 0,
  "metadata": {
    "kernelspec": {
      "display_name": "Python 3",
      "language": "python",
      "name": "python3"
    },
    "colab": {
      "name": "01_matmul.ipynb",
      "provenance": [],
      "collapsed_sections": [
        "KceNqKmkBymZ",
        "3HeIWNo9Bymo",
        "AaKpBG2UBym9",
        "iOpZtxPJBynQ",
        "mXWm3kR0Bynj",
        "3cmrfBkJByoY",
        "n_D87se0Byok"
      ],
      "include_colab_link": true
    }
  },
  "cells": [
    {
      "cell_type": "markdown",
      "metadata": {
        "id": "view-in-github",
        "colab_type": "text"
      },
      "source": [
        "<a href=\"https://colab.research.google.com/github/raynardj/impractical_dl/blob/master/01_matmul.ipynb\" target=\"_parent\"><img src=\"https://colab.research.google.com/assets/colab-badge.svg\" alt=\"Open In Colab\"/></a>"
      ]
    },
    {
      "cell_type": "markdown",
      "metadata": {
        "id": "Xxerz8FuBylb",
        "colab_type": "text"
      },
      "source": [
        "## Matrix multiplication from foundations"
      ]
    },
    {
      "cell_type": "markdown",
      "metadata": {
        "id": "eGiprMVMByle",
        "colab_type": "text"
      },
      "source": [
        "The *foundations* we'll assume throughout this course are:\n",
        "\n",
        "- Python\n",
        "- Python modules (non-DL)\n",
        "- pytorch indexable tensor, and tensor creation (including RNGs - random number generators)\n",
        "- fastai.datasets"
      ]
    },
    {
      "cell_type": "code",
      "metadata": {
        "id": "IsABAsPlB7vg",
        "colab_type": "code",
        "colab": {
          "base_uri": "https://localhost:8080/",
          "height": 666
        },
        "outputId": "b6f71fcf-98e2-4837-b4e1-ffedf334cc4d"
      },
      "source": [
        "# make your Google Drive accessible\n",
        "from google.colab import drive\n",
        "drive.mount('/content/gdrive', force_remount=True)\n",
        "root_dir = \"/content/gdrive/My Drive/\"\n",
        "base_dir = root_dir + 'fastai-v3/course-v3/nbs/dl2/'\n",
        "\n",
        "# navigate to the notebooks directory for dl2\n",
        "import os\n",
        "os.chdir(base_dir)\n",
        "\n",
        "# update fastai, according to instructions at https://course.fast.ai/start_colab.html\n",
        "!curl -s https://course.fast.ai/setup/colab | bash\n",
        "    \n",
        "# install fire\n",
        "!pip install fire\n",
        "!pip install nbconvert"
      ],
      "execution_count": 2,
      "outputs": [
        {
          "output_type": "stream",
          "text": [
            "Go to this URL in a browser: https://accounts.google.com/o/oauth2/auth?client_id=947318989803-6bn6qk8qdgf4n4g3pfee6491hc0brc4i.apps.googleusercontent.com&redirect_uri=urn%3aietf%3awg%3aoauth%3a2.0%3aoob&response_type=code&scope=email%20https%3a%2f%2fwww.googleapis.com%2fauth%2fdocs.test%20https%3a%2f%2fwww.googleapis.com%2fauth%2fdrive%20https%3a%2f%2fwww.googleapis.com%2fauth%2fdrive.photos.readonly%20https%3a%2f%2fwww.googleapis.com%2fauth%2fpeopleapi.readonly\n",
            "\n",
            "Enter your authorization code:\n",
            "··········\n",
            "Mounted at /content/gdrive\n",
            "Updating fastai...\n",
            "Done.\n",
            "Collecting fire\n",
            "\u001b[?25l  Downloading https://files.pythonhosted.org/packages/d9/69/faeaae8687f4de0f5973694d02e9d6c3eb827636a009157352d98de1129e/fire-0.2.1.tar.gz (76kB)\n",
            "\u001b[K     |████████████████████████████████| 81kB 3.5MB/s \n",
            "\u001b[?25hRequirement already satisfied: six in /usr/local/lib/python3.6/dist-packages (from fire) (1.12.0)\n",
            "Requirement already satisfied: termcolor in /usr/local/lib/python3.6/dist-packages (from fire) (1.1.0)\n",
            "Building wheels for collected packages: fire\n",
            "  Building wheel for fire (setup.py) ... \u001b[?25l\u001b[?25hdone\n",
            "  Created wheel for fire: filename=fire-0.2.1-py2.py3-none-any.whl size=103528 sha256=c0dc4413e7ab2c181d154f156510c8d37a9a5278bce1bd47c7745645a80e64fc\n",
            "  Stored in directory: /root/.cache/pip/wheels/31/9c/c0/07b6dc7faf1844bb4688f46b569efe6cafaa2179c95db821da\n",
            "Successfully built fire\n",
            "Installing collected packages: fire\n",
            "Successfully installed fire-0.2.1\n",
            "Requirement already satisfied: nbconvert in /usr/local/lib/python3.6/dist-packages (5.6.1)\n",
            "Requirement already satisfied: entrypoints>=0.2.2 in /usr/local/lib/python3.6/dist-packages (from nbconvert) (0.3)\n",
            "Requirement already satisfied: traitlets>=4.2 in /usr/local/lib/python3.6/dist-packages (from nbconvert) (4.3.3)\n",
            "Requirement already satisfied: testpath in /usr/local/lib/python3.6/dist-packages (from nbconvert) (0.4.4)\n",
            "Requirement already satisfied: jinja2>=2.4 in /usr/local/lib/python3.6/dist-packages (from nbconvert) (2.11.1)\n",
            "Requirement already satisfied: pandocfilters>=1.4.1 in /usr/local/lib/python3.6/dist-packages (from nbconvert) (1.4.2)\n",
            "Requirement already satisfied: bleach in /usr/local/lib/python3.6/dist-packages (from nbconvert) (3.1.0)\n",
            "Requirement already satisfied: nbformat>=4.4 in /usr/local/lib/python3.6/dist-packages (from nbconvert) (5.0.4)\n",
            "Requirement already satisfied: defusedxml in /usr/local/lib/python3.6/dist-packages (from nbconvert) (0.6.0)\n",
            "Requirement already satisfied: mistune<2,>=0.8.1 in /usr/local/lib/python3.6/dist-packages (from nbconvert) (0.8.4)\n",
            "Requirement already satisfied: jupyter-core in /usr/local/lib/python3.6/dist-packages (from nbconvert) (4.6.1)\n",
            "Requirement already satisfied: pygments in /usr/local/lib/python3.6/dist-packages (from nbconvert) (2.1.3)\n",
            "Requirement already satisfied: ipython-genutils in /usr/local/lib/python3.6/dist-packages (from traitlets>=4.2->nbconvert) (0.2.0)\n",
            "Requirement already satisfied: six in /usr/local/lib/python3.6/dist-packages (from traitlets>=4.2->nbconvert) (1.12.0)\n",
            "Requirement already satisfied: decorator in /usr/local/lib/python3.6/dist-packages (from traitlets>=4.2->nbconvert) (4.4.1)\n",
            "Requirement already satisfied: MarkupSafe>=0.23 in /usr/local/lib/python3.6/dist-packages (from jinja2>=2.4->nbconvert) (1.1.1)\n",
            "Requirement already satisfied: webencodings in /usr/local/lib/python3.6/dist-packages (from bleach->nbconvert) (0.5.1)\n",
            "Requirement already satisfied: jsonschema!=2.5.0,>=2.4 in /usr/local/lib/python3.6/dist-packages (from nbformat>=4.4->nbconvert) (2.6.0)\n"
          ],
          "name": "stdout"
        }
      ]
    },
    {
      "cell_type": "markdown",
      "metadata": {
        "id": "x454FjJkBylf",
        "colab_type": "text"
      },
      "source": [
        "## Check imports"
      ]
    },
    {
      "cell_type": "code",
      "metadata": {
        "id": "54YAJmqOBylg",
        "colab_type": "code",
        "colab": {}
      },
      "source": [
        "%load_ext autoreload\n",
        "%autoreload 2\n",
        "\n",
        "%matplotlib inline"
      ],
      "execution_count": 0,
      "outputs": []
    },
    {
      "cell_type": "markdown",
      "metadata": {
        "id": "LTf5fRssBylk",
        "colab_type": "text"
      },
      "source": [
        "[Jump_to lesson 8 video](https://course.fast.ai/videos/?lesson=8&t=1850)"
      ]
    },
    {
      "cell_type": "code",
      "metadata": {
        "id": "0EZRkfIVByll",
        "colab_type": "code",
        "colab": {}
      },
      "source": [
        "#export\n",
        "from exp.nb_00 import *\n",
        "import operator\n",
        "\n",
        "def test(a,b,cmp,cname=None):\n",
        "    if cname is None: cname=cmp.__name__\n",
        "    assert cmp(a,b),f\"{cname}:\\n{a}\\n{b}\"\n",
        "\n",
        "def test_eq(a,b): test(a,b,operator.eq,'==')"
      ],
      "execution_count": 0,
      "outputs": []
    },
    {
      "cell_type": "code",
      "metadata": {
        "id": "Girsd84HBylp",
        "colab_type": "code",
        "colab": {}
      },
      "source": [
        "test_eq(TEST,'test')"
      ],
      "execution_count": 0,
      "outputs": []
    },
    {
      "cell_type": "code",
      "metadata": {
        "id": "pfD8vnGlByls",
        "colab_type": "code",
        "colab": {}
      },
      "source": [
        "# To run tests in console:\n",
        "# ! python run_notebook.py 01_matmul.ipynb"
      ],
      "execution_count": 0,
      "outputs": []
    },
    {
      "cell_type": "markdown",
      "metadata": {
        "id": "bH8S16fbBylv",
        "colab_type": "text"
      },
      "source": [
        "## Get data"
      ]
    },
    {
      "cell_type": "markdown",
      "metadata": {
        "id": "ALgJ6FIqBylv",
        "colab_type": "text"
      },
      "source": [
        "[Jump_to lesson 8 video](https://course.fast.ai/videos/?lesson=8&t=2159)"
      ]
    },
    {
      "cell_type": "code",
      "metadata": {
        "id": "spd6Eq6-Bylx",
        "colab_type": "code",
        "colab": {}
      },
      "source": [
        "#export\n",
        "from pathlib import Path\n",
        "from IPython.core.debugger import set_trace\n",
        "from fastai import datasets\n",
        "import pickle, gzip, math, torch, matplotlib as mpl\n",
        "import matplotlib.pyplot as plt\n",
        "from torch import tensor\n",
        "\n",
        "MNIST_URL='http://deeplearning.net/data/mnist/mnist.pkl'"
      ],
      "execution_count": 0,
      "outputs": []
    },
    {
      "cell_type": "code",
      "metadata": {
        "id": "79PvKue2Dol8",
        "colab_type": "code",
        "colab": {}
      },
      "source": [
        "from tensorflow.keras.datasets import mnist"
      ],
      "execution_count": 0,
      "outputs": []
    },
    {
      "cell_type": "code",
      "metadata": {
        "id": "IRoJGatfFlCN",
        "colab_type": "code",
        "colab": {
          "base_uri": "https://localhost:8080/",
          "height": 51
        },
        "outputId": "6b8113cc-9a70-497f-c3ca-ec66dee64d10"
      },
      "source": [
        "(x_train, y_train), (x_test, y_test) = mnist.load_data()"
      ],
      "execution_count": 15,
      "outputs": [
        {
          "output_type": "stream",
          "text": [
            "Downloading data from https://storage.googleapis.com/tensorflow/tf-keras-datasets/mnist.npz\n",
            "11493376/11490434 [==============================] - 0s 0us/step\n"
          ],
          "name": "stdout"
        }
      ]
    },
    {
      "cell_type": "code",
      "metadata": {
        "id": "S3peqvpbF9v7",
        "colab_type": "code",
        "colab": {
          "base_uri": "https://localhost:8080/",
          "height": 85
        },
        "outputId": "88124f2f-5154-4ed8-ee48-9900961c6f60"
      },
      "source": [
        "for dt in (x_train, y_train, x_test, y_test):\n",
        "    print(dt.shape)"
      ],
      "execution_count": 16,
      "outputs": [
        {
          "output_type": "stream",
          "text": [
            "(60000, 28, 28)\n",
            "(60000,)\n",
            "(10000, 28, 28)\n",
            "(10000,)\n"
          ],
          "name": "stdout"
        }
      ]
    },
    {
      "cell_type": "code",
      "metadata": {
        "id": "poYgzjG0Byl9",
        "colab_type": "code",
        "colab": {
          "base_uri": "https://localhost:8080/",
          "height": 989
        },
        "outputId": "cf291be6-8a6f-49e3-c020-d8c6dd313758"
      },
      "source": [
        "x_train,y_train,x_valid,y_valid = map(tensor, (x_train,y_train,x_test,y_test))\n",
        "n,p,p = x_train.shape\n",
        "c = p*p\n",
        "x_train, x_train.shape, y_train, y_train.shape, y_train.min(), y_train.max()"
      ],
      "execution_count": 22,
      "outputs": [
        {
          "output_type": "stream",
          "text": [
            "/usr/local/lib/python3.6/dist-packages/ipykernel_launcher.py:1: UserWarning: To copy construct from a tensor, it is recommended to use sourceTensor.clone().detach() or sourceTensor.clone().detach().requires_grad_(True), rather than torch.tensor(sourceTensor).\n",
            "  \"\"\"Entry point for launching an IPython kernel.\n"
          ],
          "name": "stderr"
        },
        {
          "output_type": "execute_result",
          "data": {
            "text/plain": [
              "(tensor([[[0, 0, 0,  ..., 0, 0, 0],\n",
              "          [0, 0, 0,  ..., 0, 0, 0],\n",
              "          [0, 0, 0,  ..., 0, 0, 0],\n",
              "          ...,\n",
              "          [0, 0, 0,  ..., 0, 0, 0],\n",
              "          [0, 0, 0,  ..., 0, 0, 0],\n",
              "          [0, 0, 0,  ..., 0, 0, 0]],\n",
              " \n",
              "         [[0, 0, 0,  ..., 0, 0, 0],\n",
              "          [0, 0, 0,  ..., 0, 0, 0],\n",
              "          [0, 0, 0,  ..., 0, 0, 0],\n",
              "          ...,\n",
              "          [0, 0, 0,  ..., 0, 0, 0],\n",
              "          [0, 0, 0,  ..., 0, 0, 0],\n",
              "          [0, 0, 0,  ..., 0, 0, 0]],\n",
              " \n",
              "         [[0, 0, 0,  ..., 0, 0, 0],\n",
              "          [0, 0, 0,  ..., 0, 0, 0],\n",
              "          [0, 0, 0,  ..., 0, 0, 0],\n",
              "          ...,\n",
              "          [0, 0, 0,  ..., 0, 0, 0],\n",
              "          [0, 0, 0,  ..., 0, 0, 0],\n",
              "          [0, 0, 0,  ..., 0, 0, 0]],\n",
              " \n",
              "         ...,\n",
              " \n",
              "         [[0, 0, 0,  ..., 0, 0, 0],\n",
              "          [0, 0, 0,  ..., 0, 0, 0],\n",
              "          [0, 0, 0,  ..., 0, 0, 0],\n",
              "          ...,\n",
              "          [0, 0, 0,  ..., 0, 0, 0],\n",
              "          [0, 0, 0,  ..., 0, 0, 0],\n",
              "          [0, 0, 0,  ..., 0, 0, 0]],\n",
              " \n",
              "         [[0, 0, 0,  ..., 0, 0, 0],\n",
              "          [0, 0, 0,  ..., 0, 0, 0],\n",
              "          [0, 0, 0,  ..., 0, 0, 0],\n",
              "          ...,\n",
              "          [0, 0, 0,  ..., 0, 0, 0],\n",
              "          [0, 0, 0,  ..., 0, 0, 0],\n",
              "          [0, 0, 0,  ..., 0, 0, 0]],\n",
              " \n",
              "         [[0, 0, 0,  ..., 0, 0, 0],\n",
              "          [0, 0, 0,  ..., 0, 0, 0],\n",
              "          [0, 0, 0,  ..., 0, 0, 0],\n",
              "          ...,\n",
              "          [0, 0, 0,  ..., 0, 0, 0],\n",
              "          [0, 0, 0,  ..., 0, 0, 0],\n",
              "          [0, 0, 0,  ..., 0, 0, 0]]], dtype=torch.uint8),\n",
              " torch.Size([60000, 28, 28]),\n",
              " tensor([5, 0, 4,  ..., 5, 6, 8], dtype=torch.uint8),\n",
              " torch.Size([60000]),\n",
              " tensor(0, dtype=torch.uint8),\n",
              " tensor(9, dtype=torch.uint8))"
            ]
          },
          "metadata": {
            "tags": []
          },
          "execution_count": 22
        }
      ]
    },
    {
      "cell_type": "code",
      "metadata": {
        "id": "DUbZJmAZH38h",
        "colab_type": "code",
        "colab": {}
      },
      "source": [
        "x_train = x_train.view(60000,-1)\n",
        "x_valid = x_valid.view(10000,-1)"
      ],
      "execution_count": 0,
      "outputs": []
    },
    {
      "cell_type": "code",
      "metadata": {
        "id": "4Yey9OKQBymA",
        "colab_type": "code",
        "colab": {}
      },
      "source": [
        "assert n==y_train.shape[0]==60000\n",
        "test_eq(c,28*28)\n",
        "test_eq(y_train.min(),0)\n",
        "test_eq(y_train.max(),9)"
      ],
      "execution_count": 0,
      "outputs": []
    },
    {
      "cell_type": "code",
      "metadata": {
        "id": "MCp45j8fBymC",
        "colab_type": "code",
        "colab": {}
      },
      "source": [
        "mpl.rcParams['image.cmap'] = 'gray'"
      ],
      "execution_count": 0,
      "outputs": []
    },
    {
      "cell_type": "code",
      "metadata": {
        "id": "OJLLd6wjBymF",
        "colab_type": "code",
        "colab": {}
      },
      "source": [
        "img = x_train[0]"
      ],
      "execution_count": 0,
      "outputs": []
    },
    {
      "cell_type": "code",
      "metadata": {
        "id": "3Mg7dZaDBymH",
        "colab_type": "code",
        "colab": {
          "base_uri": "https://localhost:8080/",
          "height": 34
        },
        "outputId": "313fd64b-4c51-4212-cf1c-a65e57925b23"
      },
      "source": [
        "img.view(28,28).type()"
      ],
      "execution_count": 39,
      "outputs": [
        {
          "output_type": "execute_result",
          "data": {
            "text/plain": [
              "'torch.ByteTensor'"
            ]
          },
          "metadata": {
            "tags": []
          },
          "execution_count": 39
        }
      ]
    },
    {
      "cell_type": "code",
      "metadata": {
        "id": "HS4M1IaUBymK",
        "colab_type": "code",
        "colab": {
          "base_uri": "https://localhost:8080/",
          "height": 265
        },
        "outputId": "385961ea-3f17-4a87-b485-1778674f265a"
      },
      "source": [
        "plt.imshow(img.view((28,28)));"
      ],
      "execution_count": 40,
      "outputs": [
        {
          "output_type": "display_data",
          "data": {
            "image/png": "[encoded data removed]",
            "text/plain": [
              "<Figure size 432x288 with 1 Axes>"
            ]
          },
          "metadata": {
            "tags": []
          }
        }
      ]
    },
    {
      "cell_type": "markdown",
      "metadata": {
        "id": "17SGO9ebBymO",
        "colab_type": "text"
      },
      "source": [
        "## Initial python model"
      ]
    },
    {
      "cell_type": "markdown",
      "metadata": {
        "id": "0xUoITVaBymP",
        "colab_type": "text"
      },
      "source": [
        " [Jump_to lesson 8 video](https://course.fast.ai/videos/?lesson=8&t=2342)"
      ]
    },
    {
      "cell_type": "markdown",
      "metadata": {
        "id": "-WfOXL_dBymP",
        "colab_type": "text"
      },
      "source": [
        " [Jump_to lesson 8 video](https://course.fast.ai/videos/?lesson=8&t=2342)"
      ]
    },
    {
      "cell_type": "code",
      "metadata": {
        "id": "O1QIuK9oBymQ",
        "colab_type": "code",
        "colab": {}
      },
      "source": [
        "weights = torch.randn(784,10)"
      ],
      "execution_count": 0,
      "outputs": []
    },
    {
      "cell_type": "code",
      "metadata": {
        "id": "ODbujuczBymW",
        "colab_type": "code",
        "colab": {}
      },
      "source": [
        "bias = torch.zeros(10)"
      ],
      "execution_count": 0,
      "outputs": []
    },
    {
      "cell_type": "markdown",
      "metadata": {
        "id": "kNB74PRmNmk0",
        "colab_type": "text"
      },
      "source": [
        "### basic matmul \n",
        "ray's coding"
      ]
    },
    {
      "cell_type": "code",
      "metadata": {
        "id": "suNRUf2iJPkT",
        "colab_type": "code",
        "colab": {}
      },
      "source": [
        "def matmul(a,b):\n",
        "    \"\"\"\n",
        "    Ray's coding\n",
        "    \"\"\"\n",
        "    ar,ac = a.shape\n",
        "    br,bc = b.shape\n",
        "    ret = torch.zeros(ar,bc)\n",
        "    assert ac == br, \"collumn nb of the 1st array has to eq the row nb of the 2nd array\"\n",
        "    for i in range(ar):\n",
        "        for j in range(bc):\n",
        "            for k in range(ac):\n",
        "                ret[i,j]+=a[i,k]*b[k,j]\n",
        "    return ret"
      ],
      "execution_count": 0,
      "outputs": []
    },
    {
      "cell_type": "code",
      "metadata": {
        "id": "9b9cnt9lKm2T",
        "colab_type": "code",
        "colab": {}
      },
      "source": [
        "a = torch.LongTensor([[1,2,1],[0,1,0],[2,3,4]])\n",
        "b = torch.LongTensor([[2,5],[6,7],[1,8]])"
      ],
      "execution_count": 0,
      "outputs": []
    },
    {
      "cell_type": "code",
      "metadata": {
        "id": "jOCRHegUK692",
        "colab_type": "code",
        "colab": {
          "base_uri": "https://localhost:8080/",
          "height": 102
        },
        "outputId": "cca50e6a-acfe-4323-d91b-438e75c050ac"
      },
      "source": [
        "%time matmul(a,b)"
      ],
      "execution_count": 73,
      "outputs": [
        {
          "output_type": "stream",
          "text": [
            "CPU times: user 1.43 ms, sys: 0 ns, total: 1.43 ms\n",
            "Wall time: 1.68 ms\n"
          ],
          "name": "stdout"
        },
        {
          "output_type": "execute_result",
          "data": {
            "text/plain": [
              "tensor([[15., 27.],\n",
              "        [ 6.,  7.],\n",
              "        [26., 63.]])"
            ]
          },
          "metadata": {
            "tags": []
          },
          "execution_count": 73
        }
      ]
    },
    {
      "cell_type": "markdown",
      "metadata": {
        "id": "OGL5Rn1kNSiA",
        "colab_type": "text"
      },
      "source": [
        "### slicing and elementwise\n",
        "Ray's coding"
      ]
    },
    {
      "cell_type": "code",
      "metadata": {
        "id": "BQxAh3m5MaGs",
        "colab_type": "code",
        "colab": {}
      },
      "source": [
        " def matmul_ele(a,b):\n",
        "\n",
        "    ar,ac = a.shape\n",
        "    br,bc = b.shape\n",
        "    ret = torch.zeros(ar,bc)\n",
        "    assert ac == br, \"collumn nb of the 1st array has to eq the row nb of the 2nd array\"\n",
        "    for i in range(ar):\n",
        "        for j in range(bc):\n",
        "            ret[i,j]+=(a[i,:]*b[:,j]).sum()\n",
        "    return ret\n",
        "\n",
        "def matmul_ele2(a,b):\n",
        "\n",
        "    ar,ac = a.shape\n",
        "    br,bc = b.shape\n",
        "    ret = torch.zeros(ar,bc)\n",
        "    assert ac == br, \"collumn nb of the 1st array has to eq the row nb of the 2nd array\"\n",
        "    for j in range(bc):\n",
        "        ret[:,j] = (a*(b[:,j])).sum(dim=1)\n",
        "    return ret"
      ],
      "execution_count": 0,
      "outputs": []
    },
    {
      "cell_type": "code",
      "metadata": {
        "id": "MUyxL_wWMg_a",
        "colab_type": "code",
        "colab": {
          "base_uri": "https://localhost:8080/",
          "height": 102
        },
        "outputId": "5538edba-3ce3-4825-c959-d58b9966f9fc"
      },
      "source": [
        "%time matmul_ele(a,b)"
      ],
      "execution_count": 92,
      "outputs": [
        {
          "output_type": "stream",
          "text": [
            "CPU times: user 848 µs, sys: 0 ns, total: 848 µs\n",
            "Wall time: 1.12 ms\n"
          ],
          "name": "stdout"
        },
        {
          "output_type": "execute_result",
          "data": {
            "text/plain": [
              "tensor([[15., 27.],\n",
              "        [ 6.,  7.],\n",
              "        [26., 63.]])"
            ]
          },
          "metadata": {
            "tags": []
          },
          "execution_count": 92
        }
      ]
    },
    {
      "cell_type": "code",
      "metadata": {
        "id": "Y2kaVN4Qaj2g",
        "colab_type": "code",
        "colab": {
          "base_uri": "https://localhost:8080/",
          "height": 102
        },
        "outputId": "b3b6f552-f103-4a93-86c6-fb542227f35a"
      },
      "source": [
        "%time matmul_ele2(a,b)"
      ],
      "execution_count": 93,
      "outputs": [
        {
          "output_type": "stream",
          "text": [
            "CPU times: user 435 µs, sys: 908 µs, total: 1.34 ms\n",
            "Wall time: 1.01 ms\n"
          ],
          "name": "stdout"
        },
        {
          "output_type": "execute_result",
          "data": {
            "text/plain": [
              "tensor([[15., 27.],\n",
              "        [ 6.,  7.],\n",
              "        [26., 63.]])"
            ]
          },
          "metadata": {
            "tags": []
          },
          "execution_count": 93
        }
      ]
    },
    {
      "cell_type": "code",
      "metadata": {
        "id": "ouj3GZqzM4TX",
        "colab_type": "code",
        "colab": {
          "base_uri": "https://localhost:8080/",
          "height": 102
        },
        "outputId": "50f07b02-bdf6-4e3a-e4eb-fe1b7249687c"
      },
      "source": [
        "%time a.__matmul__(b)"
      ],
      "execution_count": 81,
      "outputs": [
        {
          "output_type": "stream",
          "text": [
            "CPU times: user 185 µs, sys: 35 µs, total: 220 µs\n",
            "Wall time: 232 µs\n"
          ],
          "name": "stdout"
        },
        {
          "output_type": "execute_result",
          "data": {
            "text/plain": [
              "tensor([[15, 27],\n",
              "        [ 6,  7],\n",
              "        [26, 63]])"
            ]
          },
          "metadata": {
            "tags": []
          },
          "execution_count": 81
        }
      ]
    },
    {
      "cell_type": "markdown",
      "metadata": {
        "id": "KceNqKmkBymZ",
        "colab_type": "text"
      },
      "source": [
        "#### Matrix multiplication"
      ]
    },
    {
      "cell_type": "code",
      "metadata": {
        "id": "gaaI4uqHByma",
        "colab_type": "code",
        "colab": {}
      },
      "source": [
        "def matmul(a,b):\n",
        "    ar,ac = a.shape # n_rows * n_cols\n",
        "    br,bc = b.shape\n",
        "    assert ac==br\n",
        "    c = torch.zeros(ar, bc)\n",
        "    for i in range(ar):\n",
        "        for j in range(bc):\n",
        "            for k in range(ac): # or br\n",
        "                c[i,j] += a[i,k] * b[k,j]\n",
        "    return c"
      ],
      "execution_count": 0,
      "outputs": []
    },
    {
      "cell_type": "code",
      "metadata": {
        "id": "2a9Jo33zBymc",
        "colab_type": "code",
        "colab": {}
      },
      "source": [
        "m1 = x_valid[:5]\n",
        "m2 = weights"
      ],
      "execution_count": 0,
      "outputs": []
    },
    {
      "cell_type": "code",
      "metadata": {
        "id": "0XZAla9gByme",
        "colab_type": "code",
        "colab": {
          "base_uri": "https://localhost:8080/",
          "height": 34
        },
        "outputId": "217c8c3f-dac3-48ce-a1d1-9a5abba2feff"
      },
      "source": [
        "m1.shape,m2.shape"
      ],
      "execution_count": 85,
      "outputs": [
        {
          "output_type": "execute_result",
          "data": {
            "text/plain": [
              "(torch.Size([5, 784]), torch.Size([784, 10]))"
            ]
          },
          "metadata": {
            "tags": []
          },
          "execution_count": 85
        }
      ]
    },
    {
      "cell_type": "code",
      "metadata": {
        "id": "fM3JTVUwBymh",
        "colab_type": "code",
        "colab": {
          "base_uri": "https://localhost:8080/",
          "height": 51
        },
        "outputId": "3e481ffe-a21b-4067-e63e-b2da842fddee"
      },
      "source": [
        "%time t1=matmul(m1, m2)"
      ],
      "execution_count": 86,
      "outputs": [
        {
          "output_type": "stream",
          "text": [
            "CPU times: user 1.1 s, sys: 1.08 ms, total: 1.1 s\n",
            "Wall time: 1.11 s\n"
          ],
          "name": "stdout"
        }
      ]
    },
    {
      "cell_type": "code",
      "metadata": {
        "id": "Jvd0YP0EBymj",
        "colab_type": "code",
        "colab": {
          "base_uri": "https://localhost:8080/",
          "height": 34
        },
        "outputId": "5b632553-5b09-4a8f-c2d6-cf53ed8fef82"
      },
      "source": [
        "t1.shape"
      ],
      "execution_count": 87,
      "outputs": [
        {
          "output_type": "execute_result",
          "data": {
            "text/plain": [
              "torch.Size([5, 10])"
            ]
          },
          "metadata": {
            "tags": []
          },
          "execution_count": 87
        }
      ]
    },
    {
      "cell_type": "markdown",
      "metadata": {
        "id": "32NwVj2yByml",
        "colab_type": "text"
      },
      "source": [
        "This is kinda slow - what if we could speed it up by 50,000 times? Let's try!"
      ]
    },
    {
      "cell_type": "code",
      "metadata": {
        "id": "2oqzdR4cBymm",
        "colab_type": "code",
        "colab": {
          "base_uri": "https://localhost:8080/",
          "height": 34
        },
        "outputId": "20091248-050e-4a96-ca1c-3001baa82927"
      },
      "source": [
        "len(x_train)"
      ],
      "execution_count": 88,
      "outputs": [
        {
          "output_type": "execute_result",
          "data": {
            "text/plain": [
              "60000"
            ]
          },
          "metadata": {
            "tags": []
          },
          "execution_count": 88
        }
      ]
    },
    {
      "cell_type": "markdown",
      "metadata": {
        "id": "3HeIWNo9Bymo",
        "colab_type": "text"
      },
      "source": [
        "#### Elementwise ops"
      ]
    },
    {
      "cell_type": "markdown",
      "metadata": {
        "id": "8Wrf-0B2Bymp",
        "colab_type": "text"
      },
      "source": [
        "Operators (+,-,\\*,/,>,<,==) are usually element-wise.\n",
        "\n",
        "Examples of element-wise operations:"
      ]
    },
    {
      "cell_type": "markdown",
      "metadata": {
        "id": "NNNmnbPtBymq",
        "colab_type": "text"
      },
      "source": [
        " [Jump_to lesson 8 video](https://course.fast.ai/videos/?lesson=8&t=2682)"
      ]
    },
    {
      "cell_type": "code",
      "metadata": {
        "id": "DwDhUUteBymr",
        "colab_type": "code",
        "colab": {
          "base_uri": "https://localhost:8080/",
          "height": 34
        },
        "outputId": "2aea34c5-81c8-477e-e2f3-9f44bb7c7055"
      },
      "source": [
        "a = tensor([10., 6, -4])\n",
        "b = tensor([2., 8, 7])\n",
        "a,b"
      ],
      "execution_count": 94,
      "outputs": [
        {
          "output_type": "execute_result",
          "data": {
            "text/plain": [
              "(tensor([10.,  6., -4.]), tensor([2., 8., 7.]))"
            ]
          },
          "metadata": {
            "tags": []
          },
          "execution_count": 94
        }
      ]
    },
    {
      "cell_type": "code",
      "metadata": {
        "id": "lxfIs48VBymu",
        "colab_type": "code",
        "colab": {
          "base_uri": "https://localhost:8080/",
          "height": 34
        },
        "outputId": "0407e351-a060-4695-8c5a-1a445fcd9266"
      },
      "source": [
        "a + b"
      ],
      "execution_count": 95,
      "outputs": [
        {
          "output_type": "execute_result",
          "data": {
            "text/plain": [
              "tensor([12., 14.,  3.])"
            ]
          },
          "metadata": {
            "tags": []
          },
          "execution_count": 95
        }
      ]
    },
    {
      "cell_type": "code",
      "metadata": {
        "id": "3KTOdhfmBymw",
        "colab_type": "code",
        "colab": {
          "base_uri": "https://localhost:8080/",
          "height": 34
        },
        "outputId": "f6a09209-e663-4818-cc87-fac673024c58"
      },
      "source": [
        "(a < b).float().mean()"
      ],
      "execution_count": 96,
      "outputs": [
        {
          "output_type": "execute_result",
          "data": {
            "text/plain": [
              "tensor(0.6667)"
            ]
          },
          "metadata": {
            "tags": []
          },
          "execution_count": 96
        }
      ]
    },
    {
      "cell_type": "code",
      "metadata": {
        "id": "noIlYsXbBym1",
        "colab_type": "code",
        "colab": {
          "base_uri": "https://localhost:8080/",
          "height": 68
        },
        "outputId": "6e6917cb-3fa5-42c3-da26-d5853e203ba7"
      },
      "source": [
        "m = tensor([[1., 2, 3], [4,5,6], [7,8,9]]); m"
      ],
      "execution_count": 97,
      "outputs": [
        {
          "output_type": "execute_result",
          "data": {
            "text/plain": [
              "tensor([[1., 2., 3.],\n",
              "        [4., 5., 6.],\n",
              "        [7., 8., 9.]])"
            ]
          },
          "metadata": {
            "tags": []
          },
          "execution_count": 97
        }
      ]
    },
    {
      "cell_type": "markdown",
      "metadata": {
        "id": "zHxTT51XBym4",
        "colab_type": "text"
      },
      "source": [
        "Frobenius norm:\n",
        "\n",
        "$$\\| A \\|_F = \\left( \\sum_{i,j=1}^n | a_{ij} |^2 \\right)^{1/2}$$\n",
        "\n",
        "*Hint*: you don't normally need to write equations in LaTeX yourself, instead, you can click 'edit' in Wikipedia and copy the LaTeX from there (which is what I did for the above equation). Or on arxiv.org, click \"Download: Other formats\" in the top right, then \"Download source\"; rename the downloaded file to end in `.tgz` if it doesn't already, and you should find the source there, including the equations to copy and paste."
      ]
    },
    {
      "cell_type": "code",
      "metadata": {
        "id": "AJWGzDMhBym6",
        "colab_type": "code",
        "colab": {
          "base_uri": "https://localhost:8080/",
          "height": 34
        },
        "outputId": "eeaf6f23-4f47-4506-d253-0c3b6b47e96d"
      },
      "source": [
        "(m*m).sum().sqrt()"
      ],
      "execution_count": 98,
      "outputs": [
        {
          "output_type": "execute_result",
          "data": {
            "text/plain": [
              "tensor(16.8819)"
            ]
          },
          "metadata": {
            "tags": []
          },
          "execution_count": 98
        }
      ]
    },
    {
      "cell_type": "markdown",
      "metadata": {
        "id": "AaKpBG2UBym9",
        "colab_type": "text"
      },
      "source": [
        "#### Elementwise matmul"
      ]
    },
    {
      "cell_type": "code",
      "metadata": {
        "id": "APxrmW8jBym_",
        "colab_type": "code",
        "colab": {}
      },
      "source": [
        "def matmul(a,b):\n",
        "    ar,ac = a.shape\n",
        "    br,bc = b.shape\n",
        "    assert ac==br\n",
        "    c = torch.zeros(ar, bc)\n",
        "    for i in range(ar):\n",
        "        for j in range(bc):\n",
        "            # Any trailing \",:\" can be removed\n",
        "            c[i,j] = (a[i,:] * b[:,j]).sum()\n",
        "    return c"
      ],
      "execution_count": 0,
      "outputs": []
    },
    {
      "cell_type": "code",
      "metadata": {
        "id": "6uAhlpdpBynB",
        "colab_type": "code",
        "colab": {
          "base_uri": "https://localhost:8080/",
          "height": 34
        },
        "outputId": "76b850de-4855-459e-cbfa-c3a75afcaae8"
      },
      "source": [
        "%timeit -n 10 _=matmul(m1, m2)"
      ],
      "execution_count": 100,
      "outputs": [
        {
          "output_type": "stream",
          "text": [
            "10 loops, best of 3: 1.48 ms per loop\n"
          ],
          "name": "stdout"
        }
      ]
    },
    {
      "cell_type": "code",
      "metadata": {
        "id": "T2fpE5l8BynE",
        "colab_type": "code",
        "colab": {
          "base_uri": "https://localhost:8080/",
          "height": 34
        },
        "outputId": "3669972d-1bd6-4aa8-e839-47b71fcb416c"
      },
      "source": [
        "890.1/5"
      ],
      "execution_count": 101,
      "outputs": [
        {
          "output_type": "execute_result",
          "data": {
            "text/plain": [
              "178.02"
            ]
          },
          "metadata": {
            "tags": []
          },
          "execution_count": 101
        }
      ]
    },
    {
      "cell_type": "code",
      "metadata": {
        "id": "tweIkFf7BynG",
        "colab_type": "code",
        "colab": {}
      },
      "source": [
        "#export\n",
        "def near(a,b): return torch.allclose(a, b, rtol=1e-3, atol=1e-5)\n",
        "def test_near(a,b): test(a,b,near)"
      ],
      "execution_count": 0,
      "outputs": []
    },
    {
      "cell_type": "code",
      "metadata": {
        "id": "0Gg9UknDBynI",
        "colab_type": "code",
        "colab": {}
      },
      "source": [
        "test_near(t1,matmul(m1, m2))"
      ],
      "execution_count": 0,
      "outputs": []
    },
    {
      "cell_type": "markdown",
      "metadata": {
        "id": "ITwOvyHZBynM",
        "colab_type": "text"
      },
      "source": [
        "### Broadcasting"
      ]
    },
    {
      "cell_type": "markdown",
      "metadata": {
        "id": "lZHnAKJiBynM",
        "colab_type": "text"
      },
      "source": [
        "The term **broadcasting** describes how arrays with different shapes are treated during arithmetic operations.  The term broadcasting was first used by Numpy.\n",
        "\n",
        "From the [Numpy Documentation](https://docs.scipy.org/doc/numpy-1.10.0/user/basics.broadcasting.html):\n",
        "\n",
        "    The term broadcasting describes how numpy treats arrays with \n",
        "    different shapes during arithmetic operations. Subject to certain \n",
        "    constraints, the smaller array is “broadcast” across the larger \n",
        "    array so that they have compatible shapes. Broadcasting provides a \n",
        "    means of vectorizing array operations so that looping occurs in C\n",
        "    instead of Python. It does this without making needless copies of \n",
        "    data and usually leads to efficient algorithm implementations.\n",
        "    \n",
        "In addition to the efficiency of broadcasting, it allows developers to write less code, which typically leads to fewer errors.\n",
        "\n",
        "*This section was adapted from [Chapter 4](http://nbviewer.jupyter.org/github/fastai/numerical-linear-algebra/blob/master/nbs/4.%20Compressed%20Sensing%20of%20CT%20Scans%20with%20Robust%20Regression.ipynb#4.-Compressed-Sensing-of-CT-Scans-with-Robust-Regression) of the fast.ai [Computational Linear Algebra](https://github.com/fastai/numerical-linear-algebra) course.*"
      ]
    },
    {
      "cell_type": "markdown",
      "metadata": {
        "id": "upOQcnNDBynN",
        "colab_type": "text"
      },
      "source": [
        "[Jump_to lesson 8 video](https://course.fast.ai/videos/?lesson=8&t=3110)"
      ]
    },
    {
      "cell_type": "markdown",
      "metadata": {
        "id": "iOpZtxPJBynQ",
        "colab_type": "text"
      },
      "source": [
        "#### Broadcasting with a scalar"
      ]
    },
    {
      "cell_type": "code",
      "metadata": {
        "id": "OJ6p3l1GBynQ",
        "colab_type": "code",
        "colab": {
          "base_uri": "https://localhost:8080/",
          "height": 34
        },
        "outputId": "17a750e2-1b26-4332-f214-f6dfa220df2d"
      },
      "source": [
        "a"
      ],
      "execution_count": 104,
      "outputs": [
        {
          "output_type": "execute_result",
          "data": {
            "text/plain": [
              "tensor([10.,  6., -4.])"
            ]
          },
          "metadata": {
            "tags": []
          },
          "execution_count": 104
        }
      ]
    },
    {
      "cell_type": "code",
      "metadata": {
        "id": "lx4N4RAdBynU",
        "colab_type": "code",
        "colab": {
          "base_uri": "https://localhost:8080/",
          "height": 34
        },
        "outputId": "3fbb7453-5953-4bc4-8911-4d7e1d59c6c6"
      },
      "source": [
        "a > 0"
      ],
      "execution_count": 105,
      "outputs": [
        {
          "output_type": "execute_result",
          "data": {
            "text/plain": [
              "tensor([ True,  True, False])"
            ]
          },
          "metadata": {
            "tags": []
          },
          "execution_count": 105
        }
      ]
    },
    {
      "cell_type": "markdown",
      "metadata": {
        "id": "KlRwQnZABynW",
        "colab_type": "text"
      },
      "source": [
        "How are we able to do a > 0?  0 is being **broadcast** to have the same dimensions as a.\n",
        "\n",
        "For instance you can normalize our dataset by subtracting the mean (a scalar) from the entire data set (a matrix) and dividing by the standard deviation (another scalar), using broadcasting.\n",
        "\n",
        "Other examples of broadcasting with a scalar:"
      ]
    },
    {
      "cell_type": "code",
      "metadata": {
        "id": "6mcpe0izBynX",
        "colab_type": "code",
        "colab": {
          "base_uri": "https://localhost:8080/",
          "height": 34
        },
        "outputId": "1c9164ca-a528-41ba-a691-81587737289b"
      },
      "source": [
        "a + 1"
      ],
      "execution_count": 106,
      "outputs": [
        {
          "output_type": "execute_result",
          "data": {
            "text/plain": [
              "tensor([11.,  7., -3.])"
            ]
          },
          "metadata": {
            "tags": []
          },
          "execution_count": 106
        }
      ]
    },
    {
      "cell_type": "code",
      "metadata": {
        "id": "4CiaFsPeByna",
        "colab_type": "code",
        "colab": {
          "base_uri": "https://localhost:8080/",
          "height": 68
        },
        "outputId": "04859bd0-42fb-488a-b916-757927982702"
      },
      "source": [
        "m"
      ],
      "execution_count": 107,
      "outputs": [
        {
          "output_type": "execute_result",
          "data": {
            "text/plain": [
              "tensor([[1., 2., 3.],\n",
              "        [4., 5., 6.],\n",
              "        [7., 8., 9.]])"
            ]
          },
          "metadata": {
            "tags": []
          },
          "execution_count": 107
        }
      ]
    },
    {
      "cell_type": "code",
      "metadata": {
        "id": "GJsZu0lbByng",
        "colab_type": "code",
        "colab": {
          "base_uri": "https://localhost:8080/",
          "height": 68
        },
        "outputId": "e4064288-e4f3-4aaa-f27b-f5c28f5f4359"
      },
      "source": [
        "2*m"
      ],
      "execution_count": 108,
      "outputs": [
        {
          "output_type": "execute_result",
          "data": {
            "text/plain": [
              "tensor([[ 2.,  4.,  6.],\n",
              "        [ 8., 10., 12.],\n",
              "        [14., 16., 18.]])"
            ]
          },
          "metadata": {
            "tags": []
          },
          "execution_count": 108
        }
      ]
    },
    {
      "cell_type": "markdown",
      "metadata": {
        "id": "mXWm3kR0Bynj",
        "colab_type": "text"
      },
      "source": [
        "#### Broadcasting a vector to a matrix"
      ]
    },
    {
      "cell_type": "markdown",
      "metadata": {
        "id": "TiU3uUTYBynj",
        "colab_type": "text"
      },
      "source": [
        "We can also broadcast a vector to a matrix:"
      ]
    },
    {
      "cell_type": "code",
      "metadata": {
        "id": "z0SlsMACBynk",
        "colab_type": "code",
        "colab": {
          "base_uri": "https://localhost:8080/",
          "height": 34
        },
        "outputId": "64c0e079-b35d-4054-a1cb-c864fbfe51b5"
      },
      "source": [
        "c = tensor([10.,20,30]); c"
      ],
      "execution_count": 109,
      "outputs": [
        {
          "output_type": "execute_result",
          "data": {
            "text/plain": [
              "tensor([10., 20., 30.])"
            ]
          },
          "metadata": {
            "tags": []
          },
          "execution_count": 109
        }
      ]
    },
    {
      "cell_type": "code",
      "metadata": {
        "id": "QFKqm2nWBynl",
        "colab_type": "code",
        "colab": {
          "base_uri": "https://localhost:8080/",
          "height": 68
        },
        "outputId": "e2a76d22-a04d-454e-8b73-90ff87b0362a"
      },
      "source": [
        "m"
      ],
      "execution_count": 110,
      "outputs": [
        {
          "output_type": "execute_result",
          "data": {
            "text/plain": [
              "tensor([[1., 2., 3.],\n",
              "        [4., 5., 6.],\n",
              "        [7., 8., 9.]])"
            ]
          },
          "metadata": {
            "tags": []
          },
          "execution_count": 110
        }
      ]
    },
    {
      "cell_type": "code",
      "metadata": {
        "id": "u6XoeariByno",
        "colab_type": "code",
        "colab": {
          "base_uri": "https://localhost:8080/",
          "height": 34
        },
        "outputId": "9d5cacea-f2ac-4a32-9b99-26e22ea16cea"
      },
      "source": [
        "m.shape,c.shape"
      ],
      "execution_count": 111,
      "outputs": [
        {
          "output_type": "execute_result",
          "data": {
            "text/plain": [
              "(torch.Size([3, 3]), torch.Size([3]))"
            ]
          },
          "metadata": {
            "tags": []
          },
          "execution_count": 111
        }
      ]
    },
    {
      "cell_type": "code",
      "metadata": {
        "id": "cRa8Db5DByns",
        "colab_type": "code",
        "colab": {
          "base_uri": "https://localhost:8080/",
          "height": 68
        },
        "outputId": "baca7eb0-acbc-439a-f64b-2444b5e78c2b"
      },
      "source": [
        "m + c"
      ],
      "execution_count": 112,
      "outputs": [
        {
          "output_type": "execute_result",
          "data": {
            "text/plain": [
              "tensor([[11., 22., 33.],\n",
              "        [14., 25., 36.],\n",
              "        [17., 28., 39.]])"
            ]
          },
          "metadata": {
            "tags": []
          },
          "execution_count": 112
        }
      ]
    },
    {
      "cell_type": "code",
      "metadata": {
        "id": "oiQwDa0bBynx",
        "colab_type": "code",
        "colab": {
          "base_uri": "https://localhost:8080/",
          "height": 68
        },
        "outputId": "c855c30f-6a17-4ef4-a211-d5a6cc1e41eb"
      },
      "source": [
        "c + m"
      ],
      "execution_count": 113,
      "outputs": [
        {
          "output_type": "execute_result",
          "data": {
            "text/plain": [
              "tensor([[11., 22., 33.],\n",
              "        [14., 25., 36.],\n",
              "        [17., 28., 39.]])"
            ]
          },
          "metadata": {
            "tags": []
          },
          "execution_count": 113
        }
      ]
    },
    {
      "cell_type": "markdown",
      "metadata": {
        "id": "whzLQxI4Byn0",
        "colab_type": "text"
      },
      "source": [
        "We don't really copy the rows, but it looks as if we did. In fact, the rows are given a *stride* of 0."
      ]
    },
    {
      "cell_type": "code",
      "metadata": {
        "id": "-zC-AjDxByn1",
        "colab_type": "code",
        "colab": {}
      },
      "source": [
        "t = c.expand_as(m)"
      ],
      "execution_count": 0,
      "outputs": []
    },
    {
      "cell_type": "code",
      "metadata": {
        "id": "ZAIkik3LByn2",
        "colab_type": "code",
        "colab": {
          "base_uri": "https://localhost:8080/",
          "height": 68
        },
        "outputId": "6459bbc6-dd3a-4a04-a558-819a3e89447a"
      },
      "source": [
        "t"
      ],
      "execution_count": 116,
      "outputs": [
        {
          "output_type": "execute_result",
          "data": {
            "text/plain": [
              "tensor([[10., 20., 30.],\n",
              "        [10., 20., 30.],\n",
              "        [10., 20., 30.]])"
            ]
          },
          "metadata": {
            "tags": []
          },
          "execution_count": 116
        }
      ]
    },
    {
      "cell_type": "code",
      "metadata": {
        "id": "w4cCbIckByn5",
        "colab_type": "code",
        "colab": {},
        "outputId": "cf8ef41e-e232-4042-bc35-a95caa948234"
      },
      "source": [
        "m + t"
      ],
      "execution_count": 0,
      "outputs": [
        {
          "output_type": "execute_result",
          "data": {
            "text/plain": [
              "tensor([[11., 22., 33.],\n",
              "        [14., 25., 36.],\n",
              "        [17., 28., 39.]])"
            ]
          },
          "metadata": {
            "tags": []
          },
          "execution_count": 0
        }
      ]
    },
    {
      "cell_type": "code",
      "metadata": {
        "id": "HQOVALWFByn7",
        "colab_type": "code",
        "colab": {
          "base_uri": "https://localhost:8080/",
          "height": 85
        },
        "outputId": "ee7fe070-98f0-4eb7-cb9d-c53599978bf0"
      },
      "source": [
        "t.storage()"
      ],
      "execution_count": 117,
      "outputs": [
        {
          "output_type": "execute_result",
          "data": {
            "text/plain": [
              " 10.0\n",
              " 20.0\n",
              " 30.0\n",
              "[torch.FloatStorage of size 3]"
            ]
          },
          "metadata": {
            "tags": []
          },
          "execution_count": 117
        }
      ]
    },
    {
      "cell_type": "code",
      "metadata": {
        "id": "RmMqw2z7ByoA",
        "colab_type": "code",
        "colab": {},
        "outputId": "3345ee49-6bf7-463a-8146-99d363caa1d5"
      },
      "source": [
        "t.stride(), t.shape"
      ],
      "execution_count": 0,
      "outputs": [
        {
          "output_type": "execute_result",
          "data": {
            "text/plain": [
              "((0, 1), torch.Size([3, 3]))"
            ]
          },
          "metadata": {
            "tags": []
          },
          "execution_count": 0
        }
      ]
    },
    {
      "cell_type": "markdown",
      "metadata": {
        "id": "PnkBv9vwByoB",
        "colab_type": "text"
      },
      "source": [
        "You can index with the special value [None] or use `unsqueeze()` to convert a 1-dimensional array into a 2-dimensional array (although one of those dimensions has value 1)."
      ]
    },
    {
      "cell_type": "code",
      "metadata": {
        "id": "xljcQRIaByoC",
        "colab_type": "code",
        "colab": {
          "base_uri": "https://localhost:8080/",
          "height": 34
        },
        "outputId": "7726ce4b-7292-4e50-c636-c3d15a20c4dd"
      },
      "source": [
        "c.unsqueeze(0)"
      ],
      "execution_count": 119,
      "outputs": [
        {
          "output_type": "execute_result",
          "data": {
            "text/plain": [
              "tensor([[10., 20., 30.]])"
            ]
          },
          "metadata": {
            "tags": []
          },
          "execution_count": 119
        }
      ]
    },
    {
      "cell_type": "code",
      "metadata": {
        "id": "etusScl4ByoE",
        "colab_type": "code",
        "colab": {
          "base_uri": "https://localhost:8080/",
          "height": 68
        },
        "outputId": "f986633f-9c85-4888-b216-8404848f45fe"
      },
      "source": [
        "c.unsqueeze(1)"
      ],
      "execution_count": 120,
      "outputs": [
        {
          "output_type": "execute_result",
          "data": {
            "text/plain": [
              "tensor([[10.],\n",
              "        [20.],\n",
              "        [30.]])"
            ]
          },
          "metadata": {
            "tags": []
          },
          "execution_count": 120
        }
      ]
    },
    {
      "cell_type": "code",
      "metadata": {
        "id": "QuupOPadByoF",
        "colab_type": "code",
        "colab": {},
        "outputId": "d34401c2-c932-45a6-efa0-074535b94ac3"
      },
      "source": [
        "m"
      ],
      "execution_count": 0,
      "outputs": [
        {
          "output_type": "execute_result",
          "data": {
            "text/plain": [
              "tensor([[1., 2., 3.],\n",
              "        [4., 5., 6.],\n",
              "        [7., 8., 9.]])"
            ]
          },
          "metadata": {
            "tags": []
          },
          "execution_count": 0
        }
      ]
    },
    {
      "cell_type": "code",
      "metadata": {
        "id": "9PbG6TiKByoH",
        "colab_type": "code",
        "colab": {},
        "outputId": "d55d7f1b-af93-4678-c892-e3bce2ab70d0"
      },
      "source": [
        "c.shape, c.unsqueeze(0).shape,c.unsqueeze(1).shape"
      ],
      "execution_count": 0,
      "outputs": [
        {
          "output_type": "execute_result",
          "data": {
            "text/plain": [
              "(torch.Size([3]), torch.Size([1, 3]), torch.Size([3, 1]))"
            ]
          },
          "metadata": {
            "tags": []
          },
          "execution_count": 0
        }
      ]
    },
    {
      "cell_type": "code",
      "metadata": {
        "id": "P-PCIR9GByoJ",
        "colab_type": "code",
        "colab": {},
        "outputId": "497df10c-8d07-4702-c0b8-fcd86e0ea30a"
      },
      "source": [
        "c.shape, c[None].shape,c[:,None].shape"
      ],
      "execution_count": 0,
      "outputs": [
        {
          "output_type": "execute_result",
          "data": {
            "text/plain": [
              "(torch.Size([3]), torch.Size([1, 3]), torch.Size([3, 1]))"
            ]
          },
          "metadata": {
            "tags": []
          },
          "execution_count": 0
        }
      ]
    },
    {
      "cell_type": "markdown",
      "metadata": {
        "id": "sFVimccxByoK",
        "colab_type": "text"
      },
      "source": [
        "You can always skip trailling ':'s. And '...' means '*all preceding dimensions*'"
      ]
    },
    {
      "cell_type": "code",
      "metadata": {
        "id": "pF46WJWFByoL",
        "colab_type": "code",
        "colab": {},
        "outputId": "7f15e75f-fb1d-4a08-f934-3d7f275d3d83"
      },
      "source": [
        "c[None].shape,c[...,None].shape"
      ],
      "execution_count": 0,
      "outputs": [
        {
          "output_type": "execute_result",
          "data": {
            "text/plain": [
              "(torch.Size([1, 3]), torch.Size([3, 1]))"
            ]
          },
          "metadata": {
            "tags": []
          },
          "execution_count": 0
        }
      ]
    },
    {
      "cell_type": "code",
      "metadata": {
        "id": "Inb6q0mJByoN",
        "colab_type": "code",
        "colab": {},
        "outputId": "152b30ad-66d0-425e-e69c-53549a40b69f"
      },
      "source": [
        "c[:,None].expand_as(m)"
      ],
      "execution_count": 0,
      "outputs": [
        {
          "output_type": "execute_result",
          "data": {
            "text/plain": [
              "tensor([[10., 10., 10.],\n",
              "        [20., 20., 20.],\n",
              "        [30., 30., 30.]])"
            ]
          },
          "metadata": {
            "tags": []
          },
          "execution_count": 0
        }
      ]
    },
    {
      "cell_type": "code",
      "metadata": {
        "id": "hIXeDcMgByoU",
        "colab_type": "code",
        "colab": {},
        "outputId": "14f5ebc2-272c-47d4-cb49-b6162ef3defa"
      },
      "source": [
        "m + c[:,None]"
      ],
      "execution_count": 0,
      "outputs": [
        {
          "output_type": "execute_result",
          "data": {
            "text/plain": [
              "tensor([[11., 12., 13.],\n",
              "        [24., 25., 26.],\n",
              "        [37., 38., 39.]])"
            ]
          },
          "metadata": {
            "tags": []
          },
          "execution_count": 0
        }
      ]
    },
    {
      "cell_type": "code",
      "metadata": {
        "id": "t48Cf18JByoX",
        "colab_type": "code",
        "colab": {},
        "outputId": "c58ffe6e-6987-4743-d4ad-23232e06d79c"
      },
      "source": [
        "c[:,None]"
      ],
      "execution_count": 0,
      "outputs": [
        {
          "output_type": "execute_result",
          "data": {
            "text/plain": [
              "tensor([[10.],\n",
              "        [20.],\n",
              "        [30.]])"
            ]
          },
          "metadata": {
            "tags": []
          },
          "execution_count": 0
        }
      ]
    },
    {
      "cell_type": "markdown",
      "metadata": {
        "id": "3cmrfBkJByoY",
        "colab_type": "text"
      },
      "source": [
        "#### Matmul with broadcasting"
      ]
    },
    {
      "cell_type": "code",
      "metadata": {
        "id": "B52FolL5ByoZ",
        "colab_type": "code",
        "colab": {}
      },
      "source": [
        "def matmul(a,b):\n",
        "    ar,ac = a.shape\n",
        "    br,bc = b.shape\n",
        "    assert ac==br\n",
        "    c = torch.zeros(ar, bc)\n",
        "    for i in range(ar):\n",
        "#       c[i,j] = (a[i,:]          * b[:,j]).sum() # previous\n",
        "        c[i]   = (a[i  ].unsqueeze(-1) * b).sum(dim=0)\n",
        "    return c"
      ],
      "execution_count": 0,
      "outputs": []
    },
    {
      "cell_type": "code",
      "metadata": {
        "id": "TiZH3Q4iByob",
        "colab_type": "code",
        "colab": {
          "base_uri": "https://localhost:8080/",
          "height": 34
        },
        "outputId": "3a22158f-399e-4707-e00e-d73612863d27"
      },
      "source": [
        "%timeit -n 10 _=matmul(m1, m2)"
      ],
      "execution_count": 128,
      "outputs": [
        {
          "output_type": "stream",
          "text": [
            "10 loops, best of 3: 290 µs per loop\n"
          ],
          "name": "stdout"
        }
      ]
    },
    {
      "cell_type": "code",
      "metadata": {
        "id": "E3S0JXWFByoe",
        "colab_type": "code",
        "colab": {},
        "outputId": "61b062a2-6a0e-4319-c431-f7be1b6ee721"
      },
      "source": [
        "885000/277"
      ],
      "execution_count": 0,
      "outputs": [
        {
          "output_type": "execute_result",
          "data": {
            "text/plain": [
              "3194.945848375451"
            ]
          },
          "metadata": {
            "tags": []
          },
          "execution_count": 0
        }
      ]
    },
    {
      "cell_type": "code",
      "metadata": {
        "id": "qZpFOAppByog",
        "colab_type": "code",
        "colab": {}
      },
      "source": [
        "test_near(t1, matmul(m1, m2))"
      ],
      "execution_count": 0,
      "outputs": []
    },
    {
      "cell_type": "markdown",
      "metadata": {
        "id": "n_D87se0Byok",
        "colab_type": "text"
      },
      "source": [
        "#### Broadcasting Rules"
      ]
    },
    {
      "cell_type": "code",
      "metadata": {
        "id": "4F2xFZjiByom",
        "colab_type": "code",
        "colab": {},
        "outputId": "9427eaf3-9269-4934-e3c0-24182921d26f"
      },
      "source": [
        "c[None,:]"
      ],
      "execution_count": 0,
      "outputs": [
        {
          "output_type": "execute_result",
          "data": {
            "text/plain": [
              "tensor([[10., 20., 30.]])"
            ]
          },
          "metadata": {
            "tags": []
          },
          "execution_count": 0
        }
      ]
    },
    {
      "cell_type": "code",
      "metadata": {
        "id": "wUS_9eh8Byon",
        "colab_type": "code",
        "colab": {},
        "outputId": "23d876e0-9e63-4524-c1ae-a7aab7285bec"
      },
      "source": [
        "c[None,:].shape"
      ],
      "execution_count": 0,
      "outputs": [
        {
          "output_type": "execute_result",
          "data": {
            "text/plain": [
              "torch.Size([1, 3])"
            ]
          },
          "metadata": {
            "tags": []
          },
          "execution_count": 0
        }
      ]
    },
    {
      "cell_type": "code",
      "metadata": {
        "id": "d1-vPyg5Byoo",
        "colab_type": "code",
        "colab": {},
        "outputId": "1cccdd53-f63e-41b5-9012-3ea252f64d21"
      },
      "source": [
        "c[:,None]"
      ],
      "execution_count": 0,
      "outputs": [
        {
          "output_type": "execute_result",
          "data": {
            "text/plain": [
              "tensor([[10.],\n",
              "        [20.],\n",
              "        [30.]])"
            ]
          },
          "metadata": {
            "tags": []
          },
          "execution_count": 0
        }
      ]
    },
    {
      "cell_type": "code",
      "metadata": {
        "id": "ymGePdArByoq",
        "colab_type": "code",
        "colab": {},
        "outputId": "27568f1d-7c41-4975-ec29-cd56f223f6e2"
      },
      "source": [
        "c[:,None].shape"
      ],
      "execution_count": 0,
      "outputs": [
        {
          "output_type": "execute_result",
          "data": {
            "text/plain": [
              "torch.Size([3, 1])"
            ]
          },
          "metadata": {
            "tags": []
          },
          "execution_count": 0
        }
      ]
    },
    {
      "cell_type": "code",
      "metadata": {
        "id": "H3mrq9lEByos",
        "colab_type": "code",
        "colab": {},
        "outputId": "a1e040c6-7033-4755-a5d9-085938f7a03d"
      },
      "source": [
        "c[None,:] * c[:,None]"
      ],
      "execution_count": 0,
      "outputs": [
        {
          "output_type": "execute_result",
          "data": {
            "text/plain": [
              "tensor([[100., 200., 300.],\n",
              "        [200., 400., 600.],\n",
              "        [300., 600., 900.]])"
            ]
          },
          "metadata": {
            "tags": []
          },
          "execution_count": 0
        }
      ]
    },
    {
      "cell_type": "code",
      "metadata": {
        "id": "XQjctZBqByox",
        "colab_type": "code",
        "colab": {},
        "outputId": "4e81ef71-a8f2-432a-9ed0-44632edf07f1"
      },
      "source": [
        "c[None] > c[:,None]"
      ],
      "execution_count": 0,
      "outputs": [
        {
          "output_type": "execute_result",
          "data": {
            "text/plain": [
              "tensor([[0, 1, 1],\n",
              "        [0, 0, 1],\n",
              "        [0, 0, 0]], dtype=torch.uint8)"
            ]
          },
          "metadata": {
            "tags": []
          },
          "execution_count": 0
        }
      ]
    },
    {
      "cell_type": "markdown",
      "metadata": {
        "id": "8ptBgYa2Byo0",
        "colab_type": "text"
      },
      "source": [
        "When operating on two arrays/tensors, Numpy/PyTorch compares their shapes element-wise. It starts with the **trailing dimensions**, and works its way forward. Two dimensions are **compatible** when\n",
        "\n",
        "- they are equal, or\n",
        "- one of them is 1, in which case that dimension is broadcasted to make it the same size\n",
        "\n",
        "Arrays do not need to have the same number of dimensions. For example, if you have a `256*256*3` array of RGB values, and you want to scale each color in the image by a different value, you can multiply the image by a one-dimensional array with 3 values. Lining up the sizes of the trailing axes of these arrays according to the broadcast rules, shows that they are compatible:\n",
        "\n",
        "    Image  (3d array): 256 x 256 x 3\n",
        "    Scale  (1d array):             3\n",
        "    Result (3d array): 256 x 256 x 3\n",
        "\n",
        "The [numpy documentation](https://docs.scipy.org/doc/numpy-1.13.0/user/basics.broadcasting.html#general-broadcasting-rules) includes several examples of what dimensions can and can not be broadcast together."
      ]
    },
    {
      "cell_type": "markdown",
      "metadata": {
        "id": "PFCRHcbUByo1",
        "colab_type": "text"
      },
      "source": [
        "### Einstein summation"
      ]
    },
    {
      "cell_type": "markdown",
      "metadata": {
        "id": "_eY0aS4AByo2",
        "colab_type": "text"
      },
      "source": [
        "Einstein summation (`einsum`) is a compact representation for combining products and sums in a general way. From the numpy docs:\n",
        "\n",
        "\"The subscripts string is a comma-separated list of subscript labels, where each label refers to a dimension of the corresponding operand. Whenever a label is repeated it is summed, so `np.einsum('i,i', a, b)` is equivalent to `np.inner(a,b)`. If a label appears only once, it is not summed, so `np.einsum('i', a)` produces a view of a with no changes.\""
      ]
    },
    {
      "cell_type": "markdown",
      "metadata": {
        "id": "lcBK8McfByo2",
        "colab_type": "text"
      },
      "source": [
        "[Jump_to lesson 8 video](https://course.fast.ai/videos/?lesson=8&t=4280)"
      ]
    },
    {
      "cell_type": "code",
      "metadata": {
        "id": "feo4Xq93Byo3",
        "colab_type": "code",
        "colab": {}
      },
      "source": [
        "# c[i,j] += a[i,k] * b[k,j]\n",
        "# c[i,j] = (a[i,:] * b[:,j]).sum()\n",
        "def matmul(a,b): return torch.einsum('ik,kj->ij', a, b)"
      ],
      "execution_count": 0,
      "outputs": []
    },
    {
      "cell_type": "code",
      "metadata": {
        "id": "LBsJd537jRYv",
        "colab_type": "code",
        "colab": {}
      },
      "source": [
        "def matmul_batch(a,b): return torch.einsum('bik,bkj->bij', a, b)"
      ],
      "execution_count": 0,
      "outputs": []
    },
    {
      "cell_type": "code",
      "metadata": {
        "id": "CRuknpUsByo4",
        "colab_type": "code",
        "colab": {},
        "outputId": "1cf6deb4-63cf-444a-a8db-c3ca785b32da"
      },
      "source": [
        "%timeit -n 10 _=matmul(m1, m2)"
      ],
      "execution_count": 0,
      "outputs": [
        {
          "output_type": "stream",
          "text": [
            "57.2 µs ± 15.3 µs per loop (mean ± std. dev. of 7 runs, 10 loops each)\n"
          ],
          "name": "stdout"
        }
      ]
    },
    {
      "cell_type": "code",
      "metadata": {
        "id": "zmZiwBLqByo6",
        "colab_type": "code",
        "colab": {},
        "outputId": "cba96116-647e-447b-fb47-ea1d25c7684e"
      },
      "source": [
        "885000/55"
      ],
      "execution_count": 0,
      "outputs": [
        {
          "output_type": "execute_result",
          "data": {
            "text/plain": [
              "16090.90909090909"
            ]
          },
          "metadata": {
            "tags": []
          },
          "execution_count": 0
        }
      ]
    },
    {
      "cell_type": "code",
      "metadata": {
        "id": "J-BsvJT_Byo8",
        "colab_type": "code",
        "colab": {}
      },
      "source": [
        "test_near(t1, matmul(m1, m2))"
      ],
      "execution_count": 0,
      "outputs": []
    },
    {
      "cell_type": "markdown",
      "metadata": {
        "id": "Rxppmo61BypA",
        "colab_type": "text"
      },
      "source": [
        "### pytorch op"
      ]
    },
    {
      "cell_type": "markdown",
      "metadata": {
        "id": "IeigTrh2BypB",
        "colab_type": "text"
      },
      "source": [
        "We can use pytorch's function or operator directly for matrix multiplication."
      ]
    },
    {
      "cell_type": "markdown",
      "metadata": {
        "id": "2I8AQ5rvBypB",
        "colab_type": "text"
      },
      "source": [
        "[Jump_to lesson 8 video](https://course.fast.ai/videos/?lesson=8&t=4702)"
      ]
    },
    {
      "cell_type": "code",
      "metadata": {
        "id": "itRuJsuIBypC",
        "colab_type": "code",
        "colab": {},
        "outputId": "537517bb-a221-43a2-ff39-f22ef3cb57e3"
      },
      "source": [
        "%timeit -n 10 t2 = m1.matmul(m2)"
      ],
      "execution_count": 0,
      "outputs": [
        {
          "output_type": "stream",
          "text": [
            "18.2 µs ± 6.1 µs per loop (mean ± std. dev. of 7 runs, 10 loops each)\n"
          ],
          "name": "stdout"
        }
      ]
    },
    {
      "cell_type": "code",
      "metadata": {
        "id": "ruTwBd12BypD",
        "colab_type": "code",
        "colab": {},
        "outputId": "87dfba53-1b42-4f6c-b3a6-bdad2a8e95c0"
      },
      "source": [
        "# time comparison vs pure python:\n",
        "885000/18"
      ],
      "execution_count": 0,
      "outputs": [
        {
          "output_type": "execute_result",
          "data": {
            "text/plain": [
              "49166.666666666664"
            ]
          },
          "metadata": {
            "tags": []
          },
          "execution_count": 0
        }
      ]
    },
    {
      "cell_type": "code",
      "metadata": {
        "id": "-RbUuNmWBypG",
        "colab_type": "code",
        "colab": {}
      },
      "source": [
        "t2 = m1@m2"
      ],
      "execution_count": 0,
      "outputs": []
    },
    {
      "cell_type": "code",
      "metadata": {
        "id": "QwxMdSC0BypI",
        "colab_type": "code",
        "colab": {}
      },
      "source": [
        "test_near(t1, t2)"
      ],
      "execution_count": 0,
      "outputs": []
    },
    {
      "cell_type": "code",
      "metadata": {
        "id": "UqiZ8_JYBypN",
        "colab_type": "code",
        "colab": {},
        "outputId": "b48582d7-cbab-4b71-814f-0673320d9d3a"
      },
      "source": [
        "m1.shape,m2.shape"
      ],
      "execution_count": 0,
      "outputs": [
        {
          "output_type": "execute_result",
          "data": {
            "text/plain": [
              "(torch.Size([5, 784]), torch.Size([784, 10]))"
            ]
          },
          "metadata": {
            "tags": []
          },
          "execution_count": 0
        }
      ]
    },
    {
      "cell_type": "markdown",
      "metadata": {
        "id": "dXe3-rc7BypQ",
        "colab_type": "text"
      },
      "source": [
        "## Export"
      ]
    },
    {
      "cell_type": "code",
      "metadata": {
        "id": "lsPvCn8iBypQ",
        "colab_type": "code",
        "colab": {},
        "outputId": "32aa44d6-5c37-49cf-dfe0-b62f28da54f4"
      },
      "source": [
        "!python notebook2script.py 01_matmul.ipynb"
      ],
      "execution_count": 0,
      "outputs": [
        {
          "output_type": "stream",
          "text": [
            "Converted 01_matmul.ipynb to nb_01.py\r\n"
          ],
          "name": "stdout"
        }
      ]
    },
    {
      "cell_type": "code",
      "metadata": {
        "id": "vC6ydW_CeX4W",
        "colab_type": "code",
        "colab": {}
      },
      "source": [
        ""
      ],
      "execution_count": 0,
      "outputs": []
    }
  ]
}